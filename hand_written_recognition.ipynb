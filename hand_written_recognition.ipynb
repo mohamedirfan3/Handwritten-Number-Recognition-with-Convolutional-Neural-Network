{
  "cells": [
    {
      "cell_type": "code",
      "source": [
        "import gradio as gr\n",
        "import numpy as np\n",
        "import tensorflow as tf\n",
        "from tensorflow.keras.models import load_model\n",
        "from PIL import Image\n",
        "import numpy as np\n",
        "import cv2\n",
        "from keras.models import Sequential, load_model\n",
        "from keras.layers import Conv2D, MaxPooling2D, Flatten, Dense, Dropout\n",
        "from keras.datasets import mnist\n",
        "from tensorflow.keras.utils import to_categorical\n",
        "import matplotlib.pyplot as plt\n",
        "from google.colab import files\n",
        "(x_train, y_train), (x_test, y_test) = mnist.load_data()\n",
        "x_train = x_train.reshape(x_train.shape[0], 28, 28, 1).astype('float32') / 255\n",
        "x_test = x_test.reshape(x_test.shape[0], 28, 28, 1).astype('float32') / 255\n",
        "y_train = to_categorical(y_train, num_classes=10)\n",
        "y_test = to_categorical(y_test, num_classes=10)\n",
        "model = Sequential()\n",
        "model.add(Conv2D(32, kernel_size=(3, 3), activation='relu', input_shape=(28, 28, 1)))\n",
        "model.add(MaxPooling2D(pool_size=(2, 2)))\n",
        "model.add(Conv2D(64, kernel_size=(3, 3), activation='relu'))\n",
        "model.add(MaxPooling2D(pool_size=(2, 2)))\n",
        "model.add(Flatten())\n",
        "model.add(Dense(128, activation='relu'))\n",
        "model.add(Dropout(0.5))\n",
        "model.add(Dense(10, activation='softmax'))\n",
        "model.compile(optimizer='adam', loss='categorical_crossentropy', metrics=['accuracy'])\n",
        "model.fit(x_train, y_train, validation_data=(x_test, y_test), epochs=10, batch_size=200, verbose=2)\n",
        "model.save('mnist_cnn.h5')\n",
        "model = load_model('mnist_cnn.h5')\n",
        "\n",
        "\n",
        "\n",
        "\n"
      ],
      "metadata": {
        "colab": {
          "base_uri": "https://localhost:8080/",
          "height": 1000
        },
        "id": "5Rf02n9CoWpr",
        "outputId": "048dcf4d-716b-4313-b63b-b302fe922ea8"
      },
      "execution_count": 24,
      "outputs": [
        {
          "output_type": "stream",
          "name": "stdout",
          "text": [
            "Epoch 1/10\n",
            "300/300 - 61s - loss: 0.3376 - accuracy: 0.8978 - val_loss: 0.0723 - val_accuracy: 0.9784 - 61s/epoch - 205ms/step\n",
            "Epoch 2/10\n",
            "300/300 - 49s - loss: 0.1021 - accuracy: 0.9698 - val_loss: 0.0468 - val_accuracy: 0.9848 - 49s/epoch - 165ms/step\n",
            "Epoch 3/10\n",
            "300/300 - 48s - loss: 0.0762 - accuracy: 0.9775 - val_loss: 0.0364 - val_accuracy: 0.9877 - 48s/epoch - 161ms/step\n",
            "Epoch 4/10\n",
            "300/300 - 50s - loss: 0.0628 - accuracy: 0.9818 - val_loss: 0.0398 - val_accuracy: 0.9871 - 50s/epoch - 165ms/step\n",
            "Epoch 5/10\n",
            "300/300 - 49s - loss: 0.0547 - accuracy: 0.9836 - val_loss: 0.0289 - val_accuracy: 0.9913 - 49s/epoch - 163ms/step\n",
            "Epoch 6/10\n",
            "300/300 - 48s - loss: 0.0463 - accuracy: 0.9864 - val_loss: 0.0294 - val_accuracy: 0.9899 - 48s/epoch - 159ms/step\n",
            "Epoch 7/10\n",
            "300/300 - 48s - loss: 0.0442 - accuracy: 0.9866 - val_loss: 0.0263 - val_accuracy: 0.9914 - 48s/epoch - 158ms/step\n",
            "Epoch 8/10\n",
            "300/300 - 47s - loss: 0.0388 - accuracy: 0.9883 - val_loss: 0.0253 - val_accuracy: 0.9912 - 47s/epoch - 156ms/step\n",
            "Epoch 9/10\n",
            "300/300 - 50s - loss: 0.0345 - accuracy: 0.9896 - val_loss: 0.0250 - val_accuracy: 0.9911 - 50s/epoch - 165ms/step\n",
            "Epoch 10/10\n",
            "300/300 - 47s - loss: 0.0304 - accuracy: 0.9906 - val_loss: 0.0255 - val_accuracy: 0.9917 - 47s/epoch - 156ms/step\n"
          ]
        },
        {
          "output_type": "stream",
          "name": "stderr",
          "text": [
            "/usr/local/lib/python3.10/dist-packages/keras/src/engine/training.py:3103: UserWarning: You are saving your model as an HDF5 file via `model.save()`. This file format is considered legacy. We recommend using instead the native Keras format, e.g. `model.save('my_model.keras')`.\n",
            "  saving_api.save_model(\n"
          ]
        },
        {
          "output_type": "stream",
          "name": "stdout",
          "text": [
            "Setting queue=True in a Colab notebook requires sharing enabled. Setting `share=True` (you can turn this off by setting `share=False` in `launch()` explicitly).\n",
            "\n",
            "Colab notebook detected. To show errors in colab notebook, set debug=True in launch()\n",
            "Running on public URL: https://8fb30216b74cf63d4d.gradio.live\n",
            "\n",
            "This share link expires in 72 hours. For free permanent hosting and GPU upgrades, run `gradio deploy` from Terminal to deploy to Spaces (https://huggingface.co/spaces)\n"
          ]
        },
        {
          "output_type": "display_data",
          "data": {
            "text/plain": [
              "<IPython.core.display.HTML object>"
            ],
            "text/html": [
              "<div><iframe src=\"https://8fb30216b74cf63d4d.gradio.live\" width=\"100%\" height=\"500\" allow=\"autoplay; camera; microphone; clipboard-read; clipboard-write;\" frameborder=\"0\" allowfullscreen></iframe></div>"
            ]
          },
          "metadata": {}
        },
        {
          "output_type": "execute_result",
          "data": {
            "text/plain": []
          },
          "metadata": {},
          "execution_count": 24
        }
      ]
    },
    {
      "cell_type": "code",
      "source": [
        "def recognize_handwritten_number(image):\n",
        "    # Preprocess the image to fit the model's input requirements\n",
        "    image = image.convert('L')  # Convert image to grayscale\n",
        "    image = image.resize((28, 28))  # Resize to 28x28 pixels\n",
        "    image = np.array(image) / 255.0  # Normalize pixel values\n",
        "    image = image.reshape(1, 28, 28, 1)  # Reshape for the model\n",
        "\n",
        "    # Predict the class\n",
        "    prediction = model.predict(image)\n",
        "    predicted_digit = np.argmax(prediction)\n",
        "\n",
        "    return str(predicted_digit)\n",
        "\n",
        "with gr.Blocks() as demo:\n",
        "    gr.Markdown(\"# Handwritten Digit Recognition\")\n",
        "\n",
        "    with gr.Row():\n",
        "        with gr.Column():\n",
        "            image_input = gr.Image(label=\"Upload a handwritten digit image\", type=\"pil\")\n",
        "            output_text = gr.Textbox(label=\"Predicted Digit\")\n",
        "\n",
        "        button = gr.Button(\"Recognize Digit\")\n",
        "        button.click(fn=recognize_handwritten_number, inputs=image_input, outputs=output_text)\n",
        "\n",
        "demo.launch()"
      ],
      "metadata": {
        "colab": {
          "base_uri": "https://localhost:8080/",
          "height": 626
        },
        "id": "g3HMAnrZq98D",
        "outputId": "186b8c5a-c73d-4e30-b732-027e3f068d77"
      },
      "execution_count": 25,
      "outputs": [
        {
          "output_type": "stream",
          "name": "stdout",
          "text": [
            "Setting queue=True in a Colab notebook requires sharing enabled. Setting `share=True` (you can turn this off by setting `share=False` in `launch()` explicitly).\n",
            "\n",
            "Colab notebook detected. To show errors in colab notebook, set debug=True in launch()\n",
            "Running on public URL: https://dc58c881fe5ecacf64.gradio.live\n",
            "\n",
            "This share link expires in 72 hours. For free permanent hosting and GPU upgrades, run `gradio deploy` from Terminal to deploy to Spaces (https://huggingface.co/spaces)\n"
          ]
        },
        {
          "output_type": "display_data",
          "data": {
            "text/plain": [
              "<IPython.core.display.HTML object>"
            ],
            "text/html": [
              "<div><iframe src=\"https://dc58c881fe5ecacf64.gradio.live\" width=\"100%\" height=\"500\" allow=\"autoplay; camera; microphone; clipboard-read; clipboard-write;\" frameborder=\"0\" allowfullscreen></iframe></div>"
            ]
          },
          "metadata": {}
        },
        {
          "output_type": "execute_result",
          "data": {
            "text/plain": []
          },
          "metadata": {},
          "execution_count": 25
        }
      ]
    },
    {
      "cell_type": "code",
      "source": [],
      "metadata": {
        "id": "3mhiprAJwrGw"
      },
      "execution_count": null,
      "outputs": []
    }
  ],
  "metadata": {
    "colab": {
      "provenance": []
    },
    "kernelspec": {
      "display_name": "Python 3",
      "name": "python3"
    },
    "language_info": {
      "name": "python"
    }
  },
  "nbformat": 4,
  "nbformat_minor": 0
}